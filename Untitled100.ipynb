{
 "cells": [
  {
   "cell_type": "code",
   "execution_count": 1,
   "id": "c3505f1f-6a51-4929-9500-018a073907d5",
   "metadata": {},
   "outputs": [
    {
     "name": "stdout",
     "output_type": "stream",
     "text": [
      "BFS:\n",
      "Open List: []\n",
      "Closed List: ['A', 'B', 'E', 'C', 'D', 'F', 'G']\n",
      "\n",
      "DFS:\n",
      "Open List: []\n",
      "Closed List: ['A', 'B', 'D', 'E', 'F', 'C', 'G']\n"
     ]
    }
   ],
   "source": [
    "# Python implementation of BFS and DFS\n",
    "from collections import deque\n",
    "\n",
    "def bfs(graph, start, goal):\n",
    "    open_list = deque([start])  # Queue for BFS\n",
    "    closed_list = []           # List of visited nodes\n",
    "\n",
    "    while open_list:\n",
    "        current = open_list.popleft()\n",
    "        \n",
    "        # Add current node to the closed list\n",
    "        closed_list.append(current)\n",
    "\n",
    "        # Check if the goal is reached\n",
    "        if current == goal:\n",
    "            return open_list, closed_list\n",
    "\n",
    "        # Add neighbors to open list if not visited\n",
    "        for neighbor in graph[current]:\n",
    "            if neighbor not in closed_list and neighbor not in open_list:\n",
    "                open_list.append(neighbor)\n",
    "\n",
    "    return open_list, closed_list\n",
    "\n",
    "def dfs(graph, start, goal):\n",
    "    open_list = [start]  # Stack for DFS\n",
    "    closed_list = []     # List of visited nodes\n",
    "\n",
    "    while open_list:\n",
    "        current = open_list.pop()\n",
    "        \n",
    "        # Add current node to the closed list\n",
    "        closed_list.append(current)\n",
    "\n",
    "        # Check if the goal is reached\n",
    "        if current == goal:\n",
    "            return open_list, closed_list\n",
    "\n",
    "        # Add neighbors to open list if not visited\n",
    "        for neighbor in reversed(graph[current]):\n",
    "            if neighbor not in closed_list and neighbor not in open_list:\n",
    "                open_list.append(neighbor)\n",
    "\n",
    "    return open_list, closed_list\n",
    "\n",
    "# Graph definition (adjacency list)\n",
    "graph = {\n",
    "    'A': ['B', 'E', 'C'],\n",
    "    'B': ['D', 'E'],\n",
    "    'C': ['F', 'G'],\n",
    "    'D': [],\n",
    "    'E': ['F'],\n",
    "    'F': [],\n",
    "    'G': []\n",
    "}\n",
    "\n",
    "# Example usage\n",
    "if __name__ == \"__main__\":\n",
    "    start = 'A'\n",
    "    goal = 'G'\n",
    "\n",
    "    # BFS example\n",
    "    open_bfs, closed_bfs = bfs(graph, start, goal)\n",
    "    print(\"BFS:\")\n",
    "    print(\"Open List:\", list(open_bfs))\n",
    "    print(\"Closed List:\", closed_bfs)\n",
    "\n",
    "    # DFS example\n",
    "    open_dfs, closed_dfs = dfs(graph, start, goal)\n",
    "    print(\"\\nDFS:\")\n",
    "    print(\"Open List:\", open_dfs)\n",
    "    print(\"Closed List:\", closed_dfs)\n"
   ]
  },
  {
   "cell_type": "code",
   "execution_count": null,
   "id": "4344fee4-1bb7-4e0b-8ba2-0ea72637b464",
   "metadata": {},
   "outputs": [],
   "source": []
  }
 ],
 "metadata": {
  "kernelspec": {
   "display_name": "Python 3 (ipykernel)",
   "language": "python",
   "name": "python3"
  },
  "language_info": {
   "codemirror_mode": {
    "name": "ipython",
    "version": 3
   },
   "file_extension": ".py",
   "mimetype": "text/x-python",
   "name": "python",
   "nbconvert_exporter": "python",
   "pygments_lexer": "ipython3",
   "version": "3.11.7"
  }
 },
 "nbformat": 4,
 "nbformat_minor": 5
}
